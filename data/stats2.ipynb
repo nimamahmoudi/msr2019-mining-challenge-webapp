{
 "cells": [
  {
   "cell_type": "code",
   "execution_count": 182,
   "metadata": {},
   "outputs": [],
   "source": [
    "import numpy as np\n",
    "import pandas as pd\n",
    "\n",
    "import matplotlib.pyplot as plt\n",
    "import seaborn as sns\n",
    "\n",
    "import scipy.stats as scs\n",
    "\n",
    "%matplotlib inline"
   ]
  },
  {
   "cell_type": "code",
   "execution_count": 183,
   "metadata": {},
   "outputs": [],
   "source": [
    "data_file = 'Output1GHAAFinal.csv'\n",
    "df = pd.read_csv(data_file, low_memory=False)"
   ]
  },
  {
   "cell_type": "code",
   "execution_count": 184,
   "metadata": {},
   "outputs": [
    {
     "data": {
      "text/html": [
       "<div>\n",
       "<style scoped>\n",
       "    .dataframe tbody tr th:only-of-type {\n",
       "        vertical-align: middle;\n",
       "    }\n",
       "\n",
       "    .dataframe tbody tr th {\n",
       "        vertical-align: top;\n",
       "    }\n",
       "\n",
       "    .dataframe thead th {\n",
       "        text-align: right;\n",
       "    }\n",
       "</style>\n",
       "<table border=\"1\" class=\"dataframe\">\n",
       "  <thead>\n",
       "    <tr style=\"text-align: right;\">\n",
       "      <th></th>\n",
       "      <th>table1_table1_table1_table1_CreationTime</th>\n",
       "      <th>table1_table1_table1_table1_Year</th>\n",
       "      <th>table1_table1_table1_table1_Month</th>\n",
       "      <th>table1_table1_table1_table1_table2_id</th>\n",
       "      <th>table1_table1_table1_table1_table2_original_id</th>\n",
       "      <th>table1_table1_table1_table1_table2_post_id</th>\n",
       "      <th>table1_table1_table1_table1_table2_pred_post_block_version_id</th>\n",
       "      <th>table1_table1_table1_table1_table2_root_post_block_version_id</th>\n",
       "      <th>table1_table1_table1_table1_table2_length</th>\n",
       "      <th>table1_table1_table1_table1_table2_line_count</th>\n",
       "      <th>...</th>\n",
       "      <th>table1_table1_table1_table1_table2_python3_result</th>\n",
       "      <th>table1_table1_table1_table1_table2_execution_time_p2</th>\n",
       "      <th>table1_table1_table1_table1_table2_execution_time_p3</th>\n",
       "      <th>table1_table1_table1_table1_table2_status_code_p2</th>\n",
       "      <th>table1_table1_table1_table1_table2_status_code_p3</th>\n",
       "      <th>table1_table1_table1_table1_table2_last_update</th>\n",
       "      <th>table1_table1_table1_table2_Exist</th>\n",
       "      <th>table1_table1_table2_ParentId</th>\n",
       "      <th>table1_table2_AcceptedAnswerId</th>\n",
       "      <th>table2_AA_Exist</th>\n",
       "    </tr>\n",
       "  </thead>\n",
       "  <tbody>\n",
       "    <tr>\n",
       "      <th>0</th>\n",
       "      <td>2008-9</td>\n",
       "      <td>2008</td>\n",
       "      <td>9</td>\n",
       "      <td>567646</td>\n",
       "      <td>106498761</td>\n",
       "      <td>39755</td>\n",
       "      <td>NaN</td>\n",
       "      <td>106498761</td>\n",
       "      <td>43</td>\n",
       "      <td>3</td>\n",
       "      <td>...</td>\n",
       "      <td>NaN</td>\n",
       "      <td>0.080961</td>\n",
       "      <td>0.042003</td>\n",
       "      <td>0</td>\n",
       "      <td>0</td>\n",
       "      <td>2019-02-04 02:03:21.14278 UTC</td>\n",
       "      <td>NaN</td>\n",
       "      <td>35805</td>\n",
       "      <td>35823.0</td>\n",
       "      <td>NaN</td>\n",
       "    </tr>\n",
       "    <tr>\n",
       "      <th>1</th>\n",
       "      <td>2008-9</td>\n",
       "      <td>2008</td>\n",
       "      <td>9</td>\n",
       "      <td>567768</td>\n",
       "      <td>107571562</td>\n",
       "      <td>135009</td>\n",
       "      <td>NaN</td>\n",
       "      <td>107571562</td>\n",
       "      <td>703</td>\n",
       "      <td>19</td>\n",
       "      <td>...</td>\n",
       "      <td>NaN</td>\n",
       "      <td>0.018042</td>\n",
       "      <td>0.033835</td>\n",
       "      <td>0</td>\n",
       "      <td>0</td>\n",
       "      <td>2019-02-04 02:19:10.013882 UTC</td>\n",
       "      <td>NaN</td>\n",
       "      <td>134834</td>\n",
       "      <td>NaN</td>\n",
       "      <td>NaN</td>\n",
       "    </tr>\n",
       "    <tr>\n",
       "      <th>2</th>\n",
       "      <td>2008-9</td>\n",
       "      <td>2008</td>\n",
       "      <td>9</td>\n",
       "      <td>567767</td>\n",
       "      <td>107570842</td>\n",
       "      <td>134954</td>\n",
       "      <td>NaN</td>\n",
       "      <td>107570842</td>\n",
       "      <td>35</td>\n",
       "      <td>1</td>\n",
       "      <td>...</td>\n",
       "      <td>NaN</td>\n",
       "      <td>0.023286</td>\n",
       "      <td>0.045689</td>\n",
       "      <td>0</td>\n",
       "      <td>0</td>\n",
       "      <td>2019-02-04 00:17:56.86758 UTC</td>\n",
       "      <td>NaN</td>\n",
       "      <td>134834</td>\n",
       "      <td>NaN</td>\n",
       "      <td>NaN</td>\n",
       "    </tr>\n",
       "    <tr>\n",
       "      <th>3</th>\n",
       "      <td>2008-9</td>\n",
       "      <td>2008</td>\n",
       "      <td>9</td>\n",
       "      <td>567781</td>\n",
       "      <td>107571864</td>\n",
       "      <td>135050</td>\n",
       "      <td>NaN</td>\n",
       "      <td>107571864</td>\n",
       "      <td>27</td>\n",
       "      <td>2</td>\n",
       "      <td>...</td>\n",
       "      <td>NaN</td>\n",
       "      <td>0.024154</td>\n",
       "      <td>0.032178</td>\n",
       "      <td>0</td>\n",
       "      <td>0</td>\n",
       "      <td>2019-02-04 00:17:57.489255 UTC</td>\n",
       "      <td>NaN</td>\n",
       "      <td>135035</td>\n",
       "      <td>135051.0</td>\n",
       "      <td>NaN</td>\n",
       "    </tr>\n",
       "    <tr>\n",
       "      <th>4</th>\n",
       "      <td>2008-9</td>\n",
       "      <td>2008</td>\n",
       "      <td>9</td>\n",
       "      <td>567720</td>\n",
       "      <td>107337922</td>\n",
       "      <td>114289</td>\n",
       "      <td>NaN</td>\n",
       "      <td>107337922</td>\n",
       "      <td>60</td>\n",
       "      <td>3</td>\n",
       "      <td>...</td>\n",
       "      <td>NaN</td>\n",
       "      <td>0.022017</td>\n",
       "      <td>0.033607</td>\n",
       "      <td>0</td>\n",
       "      <td>0</td>\n",
       "      <td>2019-02-04 00:17:56.233671 UTC</td>\n",
       "      <td>1.0</td>\n",
       "      <td>114214</td>\n",
       "      <td>114267.0</td>\n",
       "      <td>NaN</td>\n",
       "    </tr>\n",
       "  </tbody>\n",
       "</table>\n",
       "<p>5 rows × 25 columns</p>\n",
       "</div>"
      ],
      "text/plain": [
       "  table1_table1_table1_table1_CreationTime  table1_table1_table1_table1_Year  \\\n",
       "0                                   2008-9                              2008   \n",
       "1                                   2008-9                              2008   \n",
       "2                                   2008-9                              2008   \n",
       "3                                   2008-9                              2008   \n",
       "4                                   2008-9                              2008   \n",
       "\n",
       "   table1_table1_table1_table1_Month  table1_table1_table1_table1_table2_id  \\\n",
       "0                                  9                                 567646   \n",
       "1                                  9                                 567768   \n",
       "2                                  9                                 567767   \n",
       "3                                  9                                 567781   \n",
       "4                                  9                                 567720   \n",
       "\n",
       "   table1_table1_table1_table1_table2_original_id  \\\n",
       "0                                       106498761   \n",
       "1                                       107571562   \n",
       "2                                       107570842   \n",
       "3                                       107571864   \n",
       "4                                       107337922   \n",
       "\n",
       "   table1_table1_table1_table1_table2_post_id  \\\n",
       "0                                       39755   \n",
       "1                                      135009   \n",
       "2                                      134954   \n",
       "3                                      135050   \n",
       "4                                      114289   \n",
       "\n",
       "   table1_table1_table1_table1_table2_pred_post_block_version_id  \\\n",
       "0                                                NaN               \n",
       "1                                                NaN               \n",
       "2                                                NaN               \n",
       "3                                                NaN               \n",
       "4                                                NaN               \n",
       "\n",
       "   table1_table1_table1_table1_table2_root_post_block_version_id  \\\n",
       "0                                          106498761               \n",
       "1                                          107571562               \n",
       "2                                          107570842               \n",
       "3                                          107571864               \n",
       "4                                          107337922               \n",
       "\n",
       "   table1_table1_table1_table1_table2_length  \\\n",
       "0                                         43   \n",
       "1                                        703   \n",
       "2                                         35   \n",
       "3                                         27   \n",
       "4                                         60   \n",
       "\n",
       "   table1_table1_table1_table1_table2_line_count       ...         \\\n",
       "0                                              3       ...          \n",
       "1                                             19       ...          \n",
       "2                                              1       ...          \n",
       "3                                              2       ...          \n",
       "4                                              3       ...          \n",
       "\n",
       "  table1_table1_table1_table1_table2_python3_result  \\\n",
       "0                                               NaN   \n",
       "1                                               NaN   \n",
       "2                                               NaN   \n",
       "3                                               NaN   \n",
       "4                                               NaN   \n",
       "\n",
       "  table1_table1_table1_table1_table2_execution_time_p2  \\\n",
       "0                                           0.080961     \n",
       "1                                           0.018042     \n",
       "2                                           0.023286     \n",
       "3                                           0.024154     \n",
       "4                                           0.022017     \n",
       "\n",
       "  table1_table1_table1_table1_table2_execution_time_p3  \\\n",
       "0                                           0.042003     \n",
       "1                                           0.033835     \n",
       "2                                           0.045689     \n",
       "3                                           0.032178     \n",
       "4                                           0.033607     \n",
       "\n",
       "  table1_table1_table1_table1_table2_status_code_p2  \\\n",
       "0                                                 0   \n",
       "1                                                 0   \n",
       "2                                                 0   \n",
       "3                                                 0   \n",
       "4                                                 0   \n",
       "\n",
       "  table1_table1_table1_table1_table2_status_code_p3  \\\n",
       "0                                                 0   \n",
       "1                                                 0   \n",
       "2                                                 0   \n",
       "3                                                 0   \n",
       "4                                                 0   \n",
       "\n",
       "  table1_table1_table1_table1_table2_last_update  \\\n",
       "0                  2019-02-04 02:03:21.14278 UTC   \n",
       "1                 2019-02-04 02:19:10.013882 UTC   \n",
       "2                  2019-02-04 00:17:56.86758 UTC   \n",
       "3                 2019-02-04 00:17:57.489255 UTC   \n",
       "4                 2019-02-04 00:17:56.233671 UTC   \n",
       "\n",
       "   table1_table1_table1_table2_Exist  table1_table1_table2_ParentId  \\\n",
       "0                                NaN                          35805   \n",
       "1                                NaN                         134834   \n",
       "2                                NaN                         134834   \n",
       "3                                NaN                         135035   \n",
       "4                                1.0                         114214   \n",
       "\n",
       "   table1_table2_AcceptedAnswerId  table2_AA_Exist  \n",
       "0                         35823.0              NaN  \n",
       "1                             NaN              NaN  \n",
       "2                             NaN              NaN  \n",
       "3                        135051.0              NaN  \n",
       "4                        114267.0              NaN  \n",
       "\n",
       "[5 rows x 25 columns]"
      ]
     },
     "execution_count": 184,
     "metadata": {},
     "output_type": "execute_result"
    }
   ],
   "source": [
    "df.head()"
   ]
  },
  {
   "cell_type": "code",
   "execution_count": 212,
   "metadata": {
    "scrolled": true
   },
   "outputs": [],
   "source": [
    "s2 = 'table1_table1_table1_table1_table2_status_code_p2'\n",
    "s3 = 'table1_table1_table1_table1_table2_status_code_p3'\n",
    "e = 'exec'\n",
    "e2 = 'exec2'\n",
    "e3 = 'exec3'\n",
    "\n",
    "df.loc[:,'table2_AA_Exist'] = ~pd.isnull(df.loc[:,'table2_AA_Exist'])\n",
    "df.loc[:,'table1_table1_table1_table2_Exist'] = ~pd.isnull(df.loc[:,'table1_table1_table1_table2_Exist'])\n",
    "df[e2] = (df.loc[:,s2] == 0)\n",
    "df[e3] = (df.loc[:,s3] == 0)\n",
    "df[e] =  df[e2] | df[e3]\n",
    "df['creation_time'] = df['table1_table1_table1_table1_CreationTime'].apply(lambda x: datetime.datetime.strptime(x, '%Y-%m'))\n",
    "\n",
    "\n",
    "idxs = df.loc[:,'table2_AA_Exist']\n",
    "df_aa = df.loc[idxs,:]\n",
    "df_naa = df.loc[~idxs,:]\n",
    "\n",
    "idxs = df.loc[:,'table1_table1_table1_table2_Exist']\n",
    "df_gh = df.loc[idxs,:]\n",
    "df_ngh = df.loc[~idxs,:]"
   ]
  },
  {
   "cell_type": "code",
   "execution_count": 186,
   "metadata": {},
   "outputs": [
    {
     "name": "stdout",
     "output_type": "stream",
     "text": [
      "Col: exec\n",
      "Total: \t27.92%\n",
      "Accepted Answer: \t26.79%\n",
      "Non-Accepted Answer: \t28.55%\n",
      "GH: \t\t\t35.09%\n",
      "non-GH: \t\t27.88%\n",
      "\n",
      "Col: exec2\n",
      "Total: \t25.80%\n",
      "Accepted Answer: \t24.63%\n",
      "Non-Accepted Answer: \t26.45%\n",
      "GH: \t\t\t33.28%\n",
      "non-GH: \t\t25.76%\n",
      "\n",
      "Col: exec3\n",
      "Total: \t22.87%\n",
      "Accepted Answer: \t22.23%\n",
      "Non-Accepted Answer: \t23.22%\n",
      "GH: \t\t\t29.14%\n",
      "non-GH: \t\t22.84%\n",
      "\n"
     ]
    }
   ],
   "source": [
    "for col in [e,e2,e3]:\n",
    "    print('Col:', col)\n",
    "    print(\"Total: \\t{:4.2f}%\".format(sum(df.loc[:,col]) / df.shape[0] * 100))\n",
    "    print(\"Accepted Answer: \\t{:4.2f}%\".format(sum(df_aa.loc[:,col]) / df_aa.shape[0] * 100))\n",
    "    print(\"Non-Accepted Answer: \\t{:4.2f}%\".format(sum(df_naa.loc[:,col]) / df_naa.shape[0] * 100))\n",
    "    print(\"GH: \\t\\t\\t{:4.2f}%\".format(sum(df_gh.loc[:,col]) / df_gh.shape[0] * 100))\n",
    "    print(\"non-GH: \\t\\t{:4.2f}%\".format(sum(df_ngh.loc[:,col]) / df_ngh.shape[0] * 100))\n",
    "    print()"
   ]
  },
  {
   "cell_type": "markdown",
   "metadata": {},
   "source": [
    "## Executability of GH vs non-GH"
   ]
  },
  {
   "cell_type": "code",
   "execution_count": 89,
   "metadata": {},
   "outputs": [],
   "source": [
    "n = 10000\n",
    "c = 1000\n",
    "per = np.zeros(n)\n",
    "for i in range(n):\n",
    "    dfs_gh = df_gh.sample(c, replace=True)\n",
    "    dfs_ngh = df_ngh.sample(c, replace=True)\n",
    "    \n",
    "    pergh = float(sum(dfs_gh[e])) / float(c) * 100\n",
    "    perngh = float(sum(dfs_ngh[e])) / float(c) * 100\n",
    "    \n",
    "    per[i] = pergh - perngh"
   ]
  },
  {
   "cell_type": "code",
   "execution_count": 90,
   "metadata": {},
   "outputs": [
    {
     "data": {
      "text/plain": [
       "Text(0, 0.5, 'Count')"
      ]
     },
     "execution_count": 90,
     "metadata": {},
     "output_type": "execute_result"
    },
    {
     "data": {
      "image/png": "[encoded data removed]",
      "text/plain": [
       "<Figure size 720x432 with 1 Axes>"
      ]
     },
     "metadata": {
      "needs_background": "light"
     },
     "output_type": "display_data"
    }
   ],
   "source": [
    "plt.figure(figsize=(10,6))\n",
    "plt.title('Histogram of Executability')\n",
    "plt.hist(per, 30)\n",
    "plt.xlabel('Percentage of executable codes')\n",
    "plt.ylabel('Count')"
   ]
  },
  {
   "cell_type": "code",
   "execution_count": 91,
   "metadata": {},
   "outputs": [
    {
     "name": "stdout",
     "output_type": "stream",
     "text": [
      "Mean: 7.16368\n",
      "standard deviation: 2.0904317395217658\n",
      "95% CI: [3.1000000000000014,11.299999999999997]\n"
     ]
    }
   ],
   "source": [
    "print(f'Mean: {np.mean(per)}')\n",
    "print(f'standard deviation: {np.std(per)}')\n",
    "p25 = np.percentile(per, 2.5)\n",
    "p975 = np.percentile(per, 97.5)\n",
    "print(f'95% CI: [{p25},{p975}]')"
   ]
  },
  {
   "cell_type": "code",
   "execution_count": 92,
   "metadata": {},
   "outputs": [
    {
     "data": {
      "text/plain": [
       "Text(0, 0.5, 'Probability Density')"
      ]
     },
     "execution_count": 92,
     "metadata": {},
     "output_type": "execute_result"
    },
    {
     "data": {
      "image/png": "[encoded data removed]",
      "text/plain": [
       "<Figure size 720x432 with 1 Axes>"
      ]
     },
     "metadata": {
      "needs_background": "light"
     },
     "output_type": "display_data"
    }
   ],
   "source": [
    "plt.figure(figsize=(10,6))\n",
    "sns.distplot(per, hist=False)\n",
    "# font = {'size': 16}\n",
    "# fontt = {'size': 18}\n",
    "font = {}\n",
    "fontt = {}\n",
    "plt.title('Distribution of Difference in Executability', fontdict=fontt)\n",
    "plt.xlabel('Difference in Percentage', fontdict=font)\n",
    "plt.ylabel('Probability Density', fontdict=font)"
   ]
  },
  {
   "cell_type": "markdown",
   "metadata": {},
   "source": [
    "## Executability of AA vs non-AA"
   ]
  },
  {
   "cell_type": "code",
   "execution_count": 98,
   "metadata": {},
   "outputs": [],
   "source": [
    "n = 10000\n",
    "c = 1000\n",
    "per = np.zeros(n)\n",
    "for i in range(n):\n",
    "    dfs_aa = df_aa.sample(c, replace=True)\n",
    "    dfs_naa = df_naa.sample(c, replace=True)\n",
    "    \n",
    "    peraa = float(sum(dfs_aa[e])) / float(c) * 100\n",
    "    pernaa = float(sum(dfs_naa[e])) / float(c) * 100\n",
    "    \n",
    "    per[i] = peraa - pernaa"
   ]
  },
  {
   "cell_type": "code",
   "execution_count": 99,
   "metadata": {},
   "outputs": [
    {
     "data": {
      "text/plain": [
       "Text(0, 0.5, 'Count')"
      ]
     },
     "execution_count": 99,
     "metadata": {},
     "output_type": "execute_result"
    },
    {
     "data": {
      "image/png": "[encoded data removed]",
      "text/plain": [
       "<Figure size 720x432 with 1 Axes>"
      ]
     },
     "metadata": {
      "needs_background": "light"
     },
     "output_type": "display_data"
    }
   ],
   "source": [
    "plt.figure(figsize=(10,6))\n",
    "plt.title('Histogram of Executability')\n",
    "plt.hist(per, 30)\n",
    "plt.xlabel('Percentage of executable codes')\n",
    "plt.ylabel('Count')"
   ]
  },
  {
   "cell_type": "code",
   "execution_count": 100,
   "metadata": {},
   "outputs": [
    {
     "name": "stdout",
     "output_type": "stream",
     "text": [
      "Mean: -1.727289999999999\n",
      "standard deviation: 2.0025169801776954\n",
      "95% CI: [-5.699999999999996,2.1999999999999957]\n"
     ]
    }
   ],
   "source": [
    "print(f'Mean: {np.mean(per)}')\n",
    "print(f'standard deviation: {np.std(per)}')\n",
    "p25 = np.percentile(per, 2.5)\n",
    "p975 = np.percentile(per, 97.5)\n",
    "print(f'95% CI: [{p25},{p975}]')"
   ]
  },
  {
   "cell_type": "code",
   "execution_count": 101,
   "metadata": {},
   "outputs": [
    {
     "data": {
      "text/plain": [
       "Text(0, 0.5, 'Probability Density')"
      ]
     },
     "execution_count": 101,
     "metadata": {},
     "output_type": "execute_result"
    },
    {
     "data": {
      "image/png": "[encoded data removed]",
      "text/plain": [
       "<Figure size 720x432 with 1 Axes>"
      ]
     },
     "metadata": {
      "needs_background": "light"
     },
     "output_type": "display_data"
    }
   ],
   "source": [
    "plt.figure(figsize=(10,6))\n",
    "sns.distplot(per, hist=False)\n",
    "# font = {'size': 16}\n",
    "# fontt = {'size': 18}\n",
    "font = {}\n",
    "fontt = {}\n",
    "plt.title('Distribution of Difference in Executability', fontdict=fontt)\n",
    "plt.xlabel('Difference in Percentage', fontdict=font)\n",
    "plt.ylabel('Probability Density', fontdict=font)"
   ]
  },
  {
   "cell_type": "markdown",
   "metadata": {},
   "source": [
    "## Chi-Squared Test"
   ]
  },
  {
   "cell_type": "code",
   "execution_count": 159,
   "metadata": {},
   "outputs": [
    {
     "data": {
      "text/html": [
       "<div>\n",
       "<style scoped>\n",
       "    .dataframe tbody tr th:only-of-type {\n",
       "        vertical-align: middle;\n",
       "    }\n",
       "\n",
       "    .dataframe tbody tr th {\n",
       "        vertical-align: top;\n",
       "    }\n",
       "\n",
       "    .dataframe thead th {\n",
       "        text-align: right;\n",
       "    }\n",
       "</style>\n",
       "<table border=\"1\" class=\"dataframe\">\n",
       "  <thead>\n",
       "    <tr style=\"text-align: right;\">\n",
       "      <th></th>\n",
       "      <th>count_aa</th>\n",
       "      <th>count_naa</th>\n",
       "    </tr>\n",
       "    <tr>\n",
       "      <th>status_code</th>\n",
       "      <th></th>\n",
       "      <th></th>\n",
       "    </tr>\n",
       "  </thead>\n",
       "  <tbody>\n",
       "    <tr>\n",
       "      <th>0</th>\n",
       "      <td>23857</td>\n",
       "      <td>45736.0</td>\n",
       "    </tr>\n",
       "    <tr>\n",
       "      <th>1</th>\n",
       "      <td>4354</td>\n",
       "      <td>7388.0</td>\n",
       "    </tr>\n",
       "    <tr>\n",
       "      <th>18</th>\n",
       "      <td>218</td>\n",
       "      <td>448.0</td>\n",
       "    </tr>\n",
       "    <tr>\n",
       "      <th>20</th>\n",
       "      <td>1842</td>\n",
       "      <td>3269.0</td>\n",
       "    </tr>\n",
       "    <tr>\n",
       "      <th>21</th>\n",
       "      <td>142</td>\n",
       "      <td>223.0</td>\n",
       "    </tr>\n",
       "    <tr>\n",
       "      <th>24</th>\n",
       "      <td>819</td>\n",
       "      <td>1785.0</td>\n",
       "    </tr>\n",
       "    <tr>\n",
       "      <th>25</th>\n",
       "      <td>1395</td>\n",
       "      <td>2224.0</td>\n",
       "    </tr>\n",
       "    <tr>\n",
       "      <th>27</th>\n",
       "      <td>88</td>\n",
       "      <td>175.0</td>\n",
       "    </tr>\n",
       "    <tr>\n",
       "      <th>28</th>\n",
       "      <td>48</td>\n",
       "      <td>61.0</td>\n",
       "    </tr>\n",
       "    <tr>\n",
       "      <th>30</th>\n",
       "      <td>29498</td>\n",
       "      <td>48173.0</td>\n",
       "    </tr>\n",
       "    <tr>\n",
       "      <th>35</th>\n",
       "      <td>28347</td>\n",
       "      <td>52104.0</td>\n",
       "    </tr>\n",
       "    <tr>\n",
       "      <th>36</th>\n",
       "      <td>5341</td>\n",
       "      <td>9401.0</td>\n",
       "    </tr>\n",
       "    <tr>\n",
       "      <th>39</th>\n",
       "      <td>551</td>\n",
       "      <td>1212.0</td>\n",
       "    </tr>\n",
       "    <tr>\n",
       "      <th>40</th>\n",
       "      <td>152</td>\n",
       "      <td>262.0</td>\n",
       "    </tr>\n",
       "    <tr>\n",
       "      <th>64</th>\n",
       "      <td>193</td>\n",
       "      <td>356.0</td>\n",
       "    </tr>\n",
       "  </tbody>\n",
       "</table>\n",
       "</div>"
      ],
      "text/plain": [
       "             count_aa  count_naa\n",
       "status_code                     \n",
       "0               23857    45736.0\n",
       "1                4354     7388.0\n",
       "18                218      448.0\n",
       "20               1842     3269.0\n",
       "21                142      223.0\n",
       "24                819     1785.0\n",
       "25               1395     2224.0\n",
       "27                 88      175.0\n",
       "28                 48       61.0\n",
       "30              29498    48173.0\n",
       "35              28347    52104.0\n",
       "36               5341     9401.0\n",
       "39                551     1212.0\n",
       "40                152      262.0\n",
       "64                193      356.0"
      ]
     },
     "execution_count": 159,
     "metadata": {},
     "output_type": "execute_result"
    }
   ],
   "source": [
    "counts_aa = pd.crosstab(index=df_aa[s2], columns=\"count\")\n",
    "counts_naa = pd.crosstab(index=df_naa[s2], columns=\"count\")\n",
    "df_counts = counts_aa.join(counts_naa, lsuffix='_aa', rsuffix='_naa').dropna()\n",
    "df_counts = df_counts.loc[df_counts['count_aa'] > 20,:]\n",
    "df_counts = df_counts.loc[df_counts['count_naa'] > 20,:]\n",
    "df_counts.index.name = 'status_code'\n",
    "df_counts.columns.name = ''\n",
    "df_counts.to_csv('data4_p2_aa_chi.csv')\n",
    "df_counts"
   ]
  },
  {
   "cell_type": "code",
   "execution_count": 160,
   "metadata": {},
   "outputs": [
    {
     "data": {
      "text/html": [
       "<div>\n",
       "<style scoped>\n",
       "    .dataframe tbody tr th:only-of-type {\n",
       "        vertical-align: middle;\n",
       "    }\n",
       "\n",
       "    .dataframe tbody tr th {\n",
       "        vertical-align: top;\n",
       "    }\n",
       "\n",
       "    .dataframe thead th {\n",
       "        text-align: right;\n",
       "    }\n",
       "</style>\n",
       "<table border=\"1\" class=\"dataframe\">\n",
       "  <thead>\n",
       "    <tr style=\"text-align: right;\">\n",
       "      <th></th>\n",
       "      <th>count_aa</th>\n",
       "      <th>count_naa</th>\n",
       "    </tr>\n",
       "    <tr>\n",
       "      <th>status_code</th>\n",
       "      <th></th>\n",
       "      <th></th>\n",
       "    </tr>\n",
       "  </thead>\n",
       "  <tbody>\n",
       "    <tr>\n",
       "      <th>0</th>\n",
       "      <td>21537</td>\n",
       "      <td>40152.0</td>\n",
       "    </tr>\n",
       "    <tr>\n",
       "      <th>1</th>\n",
       "      <td>4903</td>\n",
       "      <td>8376.0</td>\n",
       "    </tr>\n",
       "    <tr>\n",
       "      <th>18</th>\n",
       "      <td>318</td>\n",
       "      <td>604.0</td>\n",
       "    </tr>\n",
       "    <tr>\n",
       "      <th>21</th>\n",
       "      <td>24</td>\n",
       "      <td>31.0</td>\n",
       "    </tr>\n",
       "    <tr>\n",
       "      <th>24</th>\n",
       "      <td>498</td>\n",
       "      <td>1215.0</td>\n",
       "    </tr>\n",
       "    <tr>\n",
       "      <th>25</th>\n",
       "      <td>191</td>\n",
       "      <td>316.0</td>\n",
       "    </tr>\n",
       "    <tr>\n",
       "      <th>27</th>\n",
       "      <td>66</td>\n",
       "      <td>100.0</td>\n",
       "    </tr>\n",
       "    <tr>\n",
       "      <th>28</th>\n",
       "      <td>48</td>\n",
       "      <td>55.0</td>\n",
       "    </tr>\n",
       "    <tr>\n",
       "      <th>30</th>\n",
       "      <td>29003</td>\n",
       "      <td>47101.0</td>\n",
       "    </tr>\n",
       "    <tr>\n",
       "      <th>35</th>\n",
       "      <td>33900</td>\n",
       "      <td>63575.0</td>\n",
       "    </tr>\n",
       "    <tr>\n",
       "      <th>36</th>\n",
       "      <td>2939</td>\n",
       "      <td>5289.0</td>\n",
       "    </tr>\n",
       "    <tr>\n",
       "      <th>39</th>\n",
       "      <td>512</td>\n",
       "      <td>1187.0</td>\n",
       "    </tr>\n",
       "    <tr>\n",
       "      <th>40</th>\n",
       "      <td>68</td>\n",
       "      <td>178.0</td>\n",
       "    </tr>\n",
       "    <tr>\n",
       "      <th>47</th>\n",
       "      <td>1124</td>\n",
       "      <td>1627.0</td>\n",
       "    </tr>\n",
       "    <tr>\n",
       "      <th>56</th>\n",
       "      <td>1554</td>\n",
       "      <td>2760.0</td>\n",
       "    </tr>\n",
       "    <tr>\n",
       "      <th>64</th>\n",
       "      <td>117</td>\n",
       "      <td>239.0</td>\n",
       "    </tr>\n",
       "  </tbody>\n",
       "</table>\n",
       "</div>"
      ],
      "text/plain": [
       "             count_aa  count_naa\n",
       "status_code                     \n",
       "0               21537    40152.0\n",
       "1                4903     8376.0\n",
       "18                318      604.0\n",
       "21                 24       31.0\n",
       "24                498     1215.0\n",
       "25                191      316.0\n",
       "27                 66      100.0\n",
       "28                 48       55.0\n",
       "30              29003    47101.0\n",
       "35              33900    63575.0\n",
       "36               2939     5289.0\n",
       "39                512     1187.0\n",
       "40                 68      178.0\n",
       "47               1124     1627.0\n",
       "56               1554     2760.0\n",
       "64                117      239.0"
      ]
     },
     "execution_count": 160,
     "metadata": {},
     "output_type": "execute_result"
    }
   ],
   "source": [
    "counts_aa = pd.crosstab(index=df_aa[s3], columns=\"count\")\n",
    "counts_naa = pd.crosstab(index=df_naa[s3], columns=\"count\")\n",
    "df_counts = counts_aa.join(counts_naa, lsuffix='_aa', rsuffix='_naa').dropna()\n",
    "df_counts = df_counts.loc[df_counts['count_aa'] > 20,:]\n",
    "df_counts = df_counts.loc[df_counts['count_naa'] > 20,:]\n",
    "df_counts.index.name = 'status_code'\n",
    "df_counts.columns.name = ''\n",
    "df_counts.to_csv('data4_p3_aa_chi.csv')\n",
    "df_counts"
   ]
  },
  {
   "cell_type": "code",
   "execution_count": 158,
   "metadata": {},
   "outputs": [
    {
     "data": {
      "text/html": [
       "<div>\n",
       "<style scoped>\n",
       "    .dataframe tbody tr th:only-of-type {\n",
       "        vertical-align: middle;\n",
       "    }\n",
       "\n",
       "    .dataframe tbody tr th {\n",
       "        vertical-align: top;\n",
       "    }\n",
       "\n",
       "    .dataframe thead th {\n",
       "        text-align: right;\n",
       "    }\n",
       "</style>\n",
       "<table border=\"1\" class=\"dataframe\">\n",
       "  <thead>\n",
       "    <tr style=\"text-align: right;\">\n",
       "      <th></th>\n",
       "      <th>count_gh</th>\n",
       "      <th>count_ngh</th>\n",
       "    </tr>\n",
       "    <tr>\n",
       "      <th>status_code</th>\n",
       "      <th></th>\n",
       "      <th></th>\n",
       "    </tr>\n",
       "  </thead>\n",
       "  <tbody>\n",
       "    <tr>\n",
       "      <th>0</th>\n",
       "      <td>442</td>\n",
       "      <td>69151</td>\n",
       "    </tr>\n",
       "    <tr>\n",
       "      <th>1</th>\n",
       "      <td>39</td>\n",
       "      <td>11703</td>\n",
       "    </tr>\n",
       "    <tr>\n",
       "      <th>30</th>\n",
       "      <td>323</td>\n",
       "      <td>77348</td>\n",
       "    </tr>\n",
       "    <tr>\n",
       "      <th>35</th>\n",
       "      <td>345</td>\n",
       "      <td>80106</td>\n",
       "    </tr>\n",
       "    <tr>\n",
       "      <th>36</th>\n",
       "      <td>131</td>\n",
       "      <td>14611</td>\n",
       "    </tr>\n",
       "  </tbody>\n",
       "</table>\n",
       "</div>"
      ],
      "text/plain": [
       "             count_gh  count_ngh\n",
       "status_code                     \n",
       "0                 442      69151\n",
       "1                  39      11703\n",
       "30                323      77348\n",
       "35                345      80106\n",
       "36                131      14611"
      ]
     },
     "execution_count": 158,
     "metadata": {},
     "output_type": "execute_result"
    }
   ],
   "source": [
    "counts_gh = pd.crosstab(index=df_gh[s2], columns=\"count\")\n",
    "counts_ngh = pd.crosstab(index=df_ngh[s2], columns=\"count\")\n",
    "df_counts = counts_gh.join(counts_ngh, lsuffix='_gh', rsuffix='_ngh').dropna()\n",
    "df_counts = df_counts.loc[df_counts['count_gh'] > 20,:]\n",
    "df_counts = df_counts.loc[df_counts['count_ngh'] > 20,:]\n",
    "df_counts.index.name = 'status_code'\n",
    "df_counts.columns.name = ''\n",
    "df_counts.to_csv('data4_p2_gh_chi.csv')\n",
    "df_counts"
   ]
  },
  {
   "cell_type": "code",
   "execution_count": 161,
   "metadata": {},
   "outputs": [
    {
     "data": {
      "text/html": [
       "<div>\n",
       "<style scoped>\n",
       "    .dataframe tbody tr th:only-of-type {\n",
       "        vertical-align: middle;\n",
       "    }\n",
       "\n",
       "    .dataframe tbody tr th {\n",
       "        vertical-align: top;\n",
       "    }\n",
       "\n",
       "    .dataframe thead th {\n",
       "        text-align: right;\n",
       "    }\n",
       "</style>\n",
       "<table border=\"1\" class=\"dataframe\">\n",
       "  <thead>\n",
       "    <tr style=\"text-align: right;\">\n",
       "      <th></th>\n",
       "      <th>count_gh</th>\n",
       "      <th>count_ngh</th>\n",
       "    </tr>\n",
       "    <tr>\n",
       "      <th>status_code</th>\n",
       "      <th></th>\n",
       "      <th></th>\n",
       "    </tr>\n",
       "  </thead>\n",
       "  <tbody>\n",
       "    <tr>\n",
       "      <th>0</th>\n",
       "      <td>387</td>\n",
       "      <td>61302</td>\n",
       "    </tr>\n",
       "    <tr>\n",
       "      <th>1</th>\n",
       "      <td>45</td>\n",
       "      <td>13234</td>\n",
       "    </tr>\n",
       "    <tr>\n",
       "      <th>30</th>\n",
       "      <td>237</td>\n",
       "      <td>75867</td>\n",
       "    </tr>\n",
       "    <tr>\n",
       "      <th>35</th>\n",
       "      <td>561</td>\n",
       "      <td>96914</td>\n",
       "    </tr>\n",
       "    <tr>\n",
       "      <th>36</th>\n",
       "      <td>60</td>\n",
       "      <td>8168</td>\n",
       "    </tr>\n",
       "  </tbody>\n",
       "</table>\n",
       "</div>"
      ],
      "text/plain": [
       "             count_gh  count_ngh\n",
       "status_code                     \n",
       "0                 387      61302\n",
       "1                  45      13234\n",
       "30                237      75867\n",
       "35                561      96914\n",
       "36                 60       8168"
      ]
     },
     "execution_count": 161,
     "metadata": {},
     "output_type": "execute_result"
    }
   ],
   "source": [
    "counts_gh = pd.crosstab(index=df_gh[s3], columns=\"count\")\n",
    "counts_ngh = pd.crosstab(index=df_ngh[s3], columns=\"count\")\n",
    "df_counts = counts_gh.join(counts_ngh, lsuffix='_gh', rsuffix='_ngh').dropna()\n",
    "df_counts = df_counts.loc[df_counts['count_gh'] > 20,:]\n",
    "df_counts = df_counts.loc[df_counts['count_ngh'] > 20,:]\n",
    "df_counts.index.name = 'status_code'\n",
    "df_counts.columns.name = ''\n",
    "df_counts.to_csv('data4_p3_gh_chi.csv')\n",
    "df_counts"
   ]
  },
  {
   "cell_type": "markdown",
   "metadata": {},
   "source": [
    "## Student T-Test"
   ]
  },
  {
   "cell_type": "code",
   "execution_count": 177,
   "metadata": {},
   "outputs": [],
   "source": [
    "# accepted answer\n",
    "n = 20\n",
    "c = 100\n",
    "peraas = np.zeros(n)\n",
    "pernaas = np.zeros(n)\n",
    "for i in range(n):\n",
    "    dfs_aa = df_aa.sample(c, replace=True)\n",
    "    dfs_naa = df_naa.sample(c, replace=True)\n",
    "    \n",
    "    peraa = float(sum(dfs_aa[e])) / float(c) * 100\n",
    "    pernaa = float(sum(dfs_naa[e])) / float(c) * 100\n",
    "    \n",
    "    peraas[i] = peraa\n",
    "    pernaas[i] = pernaa\n",
    "    \n",
    "df = pd.DataFrame(data={'peraa': peraas, 'pernaa': pernaas})\n",
    "df.to_csv('data4_aa_t.csv')"
   ]
  },
  {
   "cell_type": "code",
   "execution_count": 178,
   "metadata": {},
   "outputs": [],
   "source": [
    "# Github Reference\n",
    "n = 20\n",
    "c = 100\n",
    "perghs = np.zeros(n)\n",
    "pernghs = np.zeros(n)\n",
    "for i in range(n):\n",
    "    dfs_gh = df_gh.sample(c, replace=True)\n",
    "    dfs_ngh = df_ngh.sample(c, replace=True)\n",
    "    \n",
    "    pergh = float(sum(dfs_gh[e])) / float(c) * 100\n",
    "    perngh = float(sum(dfs_ngh[e])) / float(c) * 100\n",
    "    \n",
    "    perghs[i] = pergh\n",
    "    pernghs[i] = perngh\n",
    "    \n",
    "df = pd.DataFrame(data={'pergh': perghs, 'perngh': pernghs})\n",
    "df.to_csv('data4_gh_t.csv')"
   ]
  },
  {
   "cell_type": "code",
   "execution_count": 179,
   "metadata": {},
   "outputs": [],
   "source": [
    "# TEST!!!!!!\n",
    "n = 20\n",
    "c = 100\n",
    "perghs = np.zeros(n)\n",
    "pernghs = np.zeros(n)\n",
    "for i in range(n):\n",
    "    dfs_gh = df_aa.sample(c, replace=True)\n",
    "    dfs_ngh = df_aa.sample(c, replace=True)\n",
    "    \n",
    "    pergh = float(sum(dfs_gh[e])) / float(c) * 100\n",
    "    perngh = float(sum(dfs_ngh[e])) / float(c) * 100\n",
    "    \n",
    "    perghs[i] = pergh\n",
    "    pernghs[i] = perngh\n",
    "    \n",
    "df = pd.DataFrame(data={'pergh': perghs, 'perngh': pernghs})\n",
    "df.to_csv('data4_test_t.csv')"
   ]
  },
  {
   "cell_type": "markdown",
   "metadata": {},
   "source": [
    "## Plot Executability over Time"
   ]
  },
  {
   "cell_type": "code",
   "execution_count": 240,
   "metadata": {},
   "outputs": [],
   "source": [
    "import datetime\n",
    "\n",
    "# Helper Functions\n",
    "def add_three_months(t):\n",
    "    for i in range(3):\n",
    "        t = add_a_month(t)\n",
    "    return t\n",
    "def add_a_month(t):\n",
    "    return (t.replace(day=1) + datetime.timedelta(days=31)).replace(day=1)\n",
    "def print_time(t):\n",
    "    return t.strftime(\"%Y-%m-%dT%H:%M:%S\")"
   ]
  },
  {
   "cell_type": "code",
   "execution_count": 241,
   "metadata": {},
   "outputs": [
    {
     "data": {
      "text/plain": [
       "Text(0, 0.5, 'Executability if Snippets')"
      ]
     },
     "execution_count": 241,
     "metadata": {},
     "output_type": "execute_result"
    },
    {
     "data": {
      "image/png": "[encoded data removed]",
      "text/plain": [
       "<Figure size 720x432 with 1 Axes>"
      ]
     },
     "metadata": {
      "needs_background": "light"
     },
     "output_type": "display_data"
    }
   ],
   "source": [
    "tag_counts = {}\n",
    "tag_counts[e] = []\n",
    "tag_counts[e2] = []\n",
    "tag_counts[e3] = []\n",
    "tag_counts['StartDate'] = []\n",
    "tag_counts['EndDate'] = []\n",
    "start_time = datetime.datetime.strptime(\n",
    "        '2009-01-01 00:00:00', '%Y-%m-%d %H:%M:%S')\n",
    "end_time = add_three_months(start_time)\n",
    "\n",
    "while end_time < datetime.datetime.strptime(\n",
    "    '2018-12-01 00:00:00', '%Y-%m-%d %H:%M:%S'):\n",
    "    tag_counts['StartDate'].append(start_time)\n",
    "    tag_counts['EndDate'].append(end_time)\n",
    "    \n",
    "    idxs = (df['creation_time'] > start_time) & (df['creation_time'] < end_time)\n",
    "    dfs = df.loc[idxs,:]\n",
    "    \n",
    "    ex2 = sum(dfs.loc[:,e2]) / dfs.shape[0] * 100\n",
    "    ex3 = sum(dfs.loc[:,e3]) / dfs.shape[0] * 100\n",
    "    ex = sum(dfs.loc[:,e]) / dfs.shape[0] * 100\n",
    "    tag_counts[e].append(ex)\n",
    "    tag_counts[e2].append(ex2)\n",
    "    tag_counts[e3].append(ex3)\n",
    "    \n",
    "    start_time = add_three_months(start_time)\n",
    "    end_time = add_three_months(start_time)\n",
    "    \n",
    "plt.figure(figsize=(10,6))\n",
    "plt.plot(tag_counts['StartDate'], tag_counts[e], '-',label='P2 or P3')\n",
    "plt.plot(tag_counts['StartDate'], tag_counts[e2], '--', label='P2')\n",
    "plt.plot(tag_counts['StartDate'], tag_counts[e3], '-^', label='P3')\n",
    "plt.legend()\n",
    "plt.title('Executability Over Time')\n",
    "plt.xlabel('Time')\n",
    "plt.ylabel('Executability if Snippets')"
   ]
  },
  {
   "cell_type": "code",
   "execution_count": 242,
   "metadata": {},
   "outputs": [
    {
     "data": {
      "text/plain": [
       "Text(0, 0.5, 'Executability if Snippets')"
      ]
     },
     "execution_count": 242,
     "metadata": {},
     "output_type": "execute_result"
    },
    {
     "data": {
      "image/png": "[encoded data removed]",
      "text/plain": [
       "<Figure size 720x432 with 1 Axes>"
      ]
     },
     "metadata": {
      "needs_background": "light"
     },
     "output_type": "display_data"
    }
   ],
   "source": [
    "tag_counts = {}\n",
    "tag_counts[e2] = []\n",
    "tag_counts[e3] = []\n",
    "tag_counts['StartDate'] = []\n",
    "tag_counts['EndDate'] = []\n",
    "start_time = datetime.datetime.strptime(\n",
    "        '2009-01-01 00:00:00', '%Y-%m-%d %H:%M:%S')\n",
    "end_time = add_three_months(start_time)\n",
    "\n",
    "while end_time < datetime.datetime.strptime(\n",
    "    '2018-12-01 00:00:00', '%Y-%m-%d %H:%M:%S'):\n",
    "    tag_counts['StartDate'].append(start_time)\n",
    "    tag_counts['EndDate'].append(end_time)\n",
    "    \n",
    "    idxs = (df['creation_time'] > start_time) & (df['creation_time'] < end_time)\n",
    "    dfs = df.loc[idxs,:]\n",
    "    \n",
    "    ex2 = sum(dfs.loc[:,e2] & (~dfs.loc[:,e3])) / dfs.shape[0] * 100\n",
    "    ex3 = sum(dfs.loc[:,e3] & (~dfs.loc[:,e2])) / dfs.shape[0] * 100\n",
    "    tag_counts[e2].append(ex2)\n",
    "    tag_counts[e3].append(ex3)\n",
    "    \n",
    "    start_time = add_three_months(start_time)\n",
    "    end_time = add_three_months(start_time)\n",
    "    \n",
    "plt.figure(figsize=(10,6))\n",
    "plt.plot(tag_counts['StartDate'], tag_counts[e2], '-', label='P2 and not P3')\n",
    "plt.plot(tag_counts['StartDate'], tag_counts[e3], '--', label='P3 and not P2')\n",
    "plt.legend()\n",
    "plt.title('Executability Over Time')\n",
    "plt.xlabel('Time')\n",
    "plt.ylabel('Executability if Snippets')"
   ]
  },
  {
   "cell_type": "code",
   "execution_count": null,
   "metadata": {},
   "outputs": [],
   "source": []
  }
 ],
 "metadata": {
  "kernelspec": {
   "display_name": "Python 3",
   "language": "python",
   "name": "python3"
  },
  "language_info": {
   "codemirror_mode": {
    "name": "ipython",
    "version": 3
   },
   "file_extension": ".py",
   "mimetype": "text/x-python",
   "name": "python",
   "nbconvert_exporter": "python",
   "pygments_lexer": "ipython3",
   "version": "3.6.6"
  }
 },
 "nbformat": 4,
 "nbformat_minor": 2
}
