{
 "cells": [
  {
   "cell_type": "code",
   "execution_count": 75,
   "metadata": {},
   "outputs": [
    {
     "data": {
      "text/plain": [
       "\n",
       "\tChi-squared test for given probabilities\n",
       "\n",
       "data:  c1\n",
       "X-squared = 480.02, df = 14, p-value < 2.2e-16\n"
      ]
     },
     "metadata": {},
     "output_type": "display_data"
    }
   ],
   "source": [
    "df = read.csv('data4_p2_aa_chi.csv')\n",
    "df = df[,c('count_aa', 'count_naa')]\n",
    "c1 = as.vector(df['count_aa']$count_aa)\n",
    "c2 = as.vector(df['count_naa']$count_naa)\n",
    "chisq.test(c1,p=c2, rescale.p = T)"
   ]
  },
  {
   "cell_type": "code",
   "execution_count": 76,
   "metadata": {},
   "outputs": [
    {
     "data": {
      "text/plain": [
       "\n",
       "\tChi-squared test for given probabilities\n",
       "\n",
       "data:  c1\n",
       "X-squared = 554.69, df = 15, p-value < 2.2e-16\n"
      ]
     },
     "metadata": {},
     "output_type": "display_data"
    }
   ],
   "source": [
    "df = read.csv('data4_p3_aa_chi.csv')\n",
    "df = df[,c('count_aa', 'count_naa')]\n",
    "c1 = as.vector(df['count_aa']$count_aa)\n",
    "c2 = as.vector(df['count_naa']$count_naa)\n",
    "chisq.test(c1,p=c2, rescale.p = T)"
   ]
  },
  {
   "cell_type": "code",
   "execution_count": 74,
   "metadata": {},
   "outputs": [
    {
     "data": {
      "text/plain": [
       "\n",
       "\tChi-squared test for given probabilities\n",
       "\n",
       "data:  c1\n",
       "X-squared = 96.105, df = 4, p-value < 2.2e-16\n"
      ]
     },
     "metadata": {},
     "output_type": "display_data"
    }
   ],
   "source": [
    "df = read.csv('data4_p2_gh_chi.csv')\n",
    "df = df[,c('count_gh', 'count_ngh')]\n",
    "c1 = as.vector(df['count_gh']$count_gh)\n",
    "c2 = as.vector(df['count_ngh']$count_ngh)\n",
    "chisq.test(c1,p=c2, rescale.p = T)"
   ]
  },
  {
   "cell_type": "code",
   "execution_count": 77,
   "metadata": {},
   "outputs": [
    {
     "data": {
      "text/plain": [
       "\n",
       "\tChi-squared test for given probabilities\n",
       "\n",
       "data:  c1\n",
       "X-squared = 101.24, df = 4, p-value < 2.2e-16\n"
      ]
     },
     "metadata": {},
     "output_type": "display_data"
    }
   ],
   "source": [
    "df = read.csv('data4_p3_gh_chi.csv')\n",
    "df = df[,c('count_gh', 'count_ngh')]\n",
    "c1 = as.vector(df['count_gh']$count_gh)\n",
    "c2 = as.vector(df['count_ngh']$count_ngh)\n",
    "chisq.test(c1,p=c2, rescale.p = T)"
   ]
  },
  {
   "cell_type": "code",
   "execution_count": 65,
   "metadata": {},
   "outputs": [],
   "source": [
    "# chisq.test(c(10, 10, 10, 30), p = c(1, 11, 11, 1), rescale.p = TRUE)"
   ]
  },
  {
   "cell_type": "code",
   "execution_count": null,
   "metadata": {},
   "outputs": [],
   "source": []
  },
  {
   "cell_type": "code",
   "execution_count": null,
   "metadata": {},
   "outputs": [],
   "source": []
  },
  {
   "cell_type": "code",
   "execution_count": 66,
   "metadata": {},
   "outputs": [
    {
     "data": {
      "text/html": [
       "<ol class=list-inline>\n",
       "\t<li>23857</li>\n",
       "\t<li>4354</li>\n",
       "\t<li>218</li>\n",
       "\t<li>1842</li>\n",
       "\t<li>142</li>\n",
       "\t<li>819</li>\n",
       "\t<li>1395</li>\n",
       "\t<li>29498</li>\n",
       "\t<li>28347</li>\n",
       "\t<li>5341</li>\n",
       "\t<li>551</li>\n",
       "\t<li>152</li>\n",
       "\t<li>193</li>\n",
       "</ol>\n"
      ],
      "text/latex": [
       "\\begin{enumerate*}\n",
       "\\item 23857\n",
       "\\item 4354\n",
       "\\item 218\n",
       "\\item 1842\n",
       "\\item 142\n",
       "\\item 819\n",
       "\\item 1395\n",
       "\\item 29498\n",
       "\\item 28347\n",
       "\\item 5341\n",
       "\\item 551\n",
       "\\item 152\n",
       "\\item 193\n",
       "\\end{enumerate*}\n"
      ],
      "text/markdown": [
       "1. 23857\n",
       "2. 4354\n",
       "3. 218\n",
       "4. 1842\n",
       "5. 142\n",
       "6. 819\n",
       "7. 1395\n",
       "8. 29498\n",
       "9. 28347\n",
       "10. 5341\n",
       "11. 551\n",
       "12. 152\n",
       "13. 193\n",
       "\n",
       "\n"
      ],
      "text/plain": [
       " [1] 23857  4354   218  1842   142   819  1395 29498 28347  5341   551   152\n",
       "[13]   193"
      ]
     },
     "metadata": {},
     "output_type": "display_data"
    }
   ],
   "source": [
    "c1"
   ]
  },
  {
   "cell_type": "code",
   "execution_count": 67,
   "metadata": {},
   "outputs": [
    {
     "data": {
      "text/html": [
       "<ol class=list-inline>\n",
       "\t<li>45736</li>\n",
       "\t<li>7388</li>\n",
       "\t<li>448</li>\n",
       "\t<li>3269</li>\n",
       "\t<li>223</li>\n",
       "\t<li>1785</li>\n",
       "\t<li>2224</li>\n",
       "\t<li>48173</li>\n",
       "\t<li>52104</li>\n",
       "\t<li>9401</li>\n",
       "\t<li>1212</li>\n",
       "\t<li>262</li>\n",
       "\t<li>356</li>\n",
       "</ol>\n"
      ],
      "text/latex": [
       "\\begin{enumerate*}\n",
       "\\item 45736\n",
       "\\item 7388\n",
       "\\item 448\n",
       "\\item 3269\n",
       "\\item 223\n",
       "\\item 1785\n",
       "\\item 2224\n",
       "\\item 48173\n",
       "\\item 52104\n",
       "\\item 9401\n",
       "\\item 1212\n",
       "\\item 262\n",
       "\\item 356\n",
       "\\end{enumerate*}\n"
      ],
      "text/markdown": [
       "1. 45736\n",
       "2. 7388\n",
       "3. 448\n",
       "4. 3269\n",
       "5. 223\n",
       "6. 1785\n",
       "7. 2224\n",
       "8. 48173\n",
       "9. 52104\n",
       "10. 9401\n",
       "11. 1212\n",
       "12. 262\n",
       "13. 356\n",
       "\n",
       "\n"
      ],
      "text/plain": [
       " [1] 45736  7388   448  3269   223  1785  2224 48173 52104  9401  1212   262\n",
       "[13]   356"
      ]
     },
     "metadata": {},
     "output_type": "display_data"
    }
   ],
   "source": [
    "c2"
   ]
  },
  {
   "cell_type": "code",
   "execution_count": 68,
   "metadata": {},
   "outputs": [
    {
     "data": {
      "text/html": [
       "<ol class=list-inline>\n",
       "\t<li>1.91708932388817</li>\n",
       "\t<li>1.69683050068902</li>\n",
       "\t<li>2.05504587155963</li>\n",
       "\t<li>1.77470141150923</li>\n",
       "\t<li>1.57042253521127</li>\n",
       "\t<li>2.17948717948718</li>\n",
       "\t<li>1.59426523297491</li>\n",
       "\t<li>1.63309376906909</li>\n",
       "\t<li>1.83807810350302</li>\n",
       "\t<li>1.76015727391874</li>\n",
       "\t<li>2.19963702359347</li>\n",
       "\t<li>1.72368421052632</li>\n",
       "\t<li>1.84455958549223</li>\n",
       "</ol>\n"
      ],
      "text/latex": [
       "\\begin{enumerate*}\n",
       "\\item 1.91708932388817\n",
       "\\item 1.69683050068902\n",
       "\\item 2.05504587155963\n",
       "\\item 1.77470141150923\n",
       "\\item 1.57042253521127\n",
       "\\item 2.17948717948718\n",
       "\\item 1.59426523297491\n",
       "\\item 1.63309376906909\n",
       "\\item 1.83807810350302\n",
       "\\item 1.76015727391874\n",
       "\\item 2.19963702359347\n",
       "\\item 1.72368421052632\n",
       "\\item 1.84455958549223\n",
       "\\end{enumerate*}\n"
      ],
      "text/markdown": [
       "1. 1.91708932388817\n",
       "2. 1.69683050068902\n",
       "3. 2.05504587155963\n",
       "4. 1.77470141150923\n",
       "5. 1.57042253521127\n",
       "6. 2.17948717948718\n",
       "7. 1.59426523297491\n",
       "8. 1.63309376906909\n",
       "9. 1.83807810350302\n",
       "10. 1.76015727391874\n",
       "11. 2.19963702359347\n",
       "12. 1.72368421052632\n",
       "13. 1.84455958549223\n",
       "\n",
       "\n"
      ],
      "text/plain": [
       " [1] 1.917089 1.696831 2.055046 1.774701 1.570423 2.179487 1.594265 1.633094\n",
       " [9] 1.838078 1.760157 2.199637 1.723684 1.844560"
      ]
     },
     "metadata": {},
     "output_type": "display_data"
    }
   ],
   "source": [
    "c2 / c1"
   ]
  },
  {
   "cell_type": "code",
   "execution_count": null,
   "metadata": {},
   "outputs": [],
   "source": []
  }
 ],
 "metadata": {
  "kernelspec": {
   "display_name": "R",
   "language": "R",
   "name": "ir"
  },
  "language_info": {
   "codemirror_mode": "r",
   "file_extension": ".r",
   "mimetype": "text/x-r-source",
   "name": "R",
   "pygments_lexer": "r",
   "version": "3.5.1"
  }
 },
 "nbformat": 4,
 "nbformat_minor": 2
}
