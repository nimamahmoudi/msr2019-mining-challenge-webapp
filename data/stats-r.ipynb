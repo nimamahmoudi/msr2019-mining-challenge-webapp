{
 "cells": [
  {
   "cell_type": "code",
   "execution_count": 79,
   "metadata": {},
   "outputs": [
    {
     "data": {
      "text/plain": [
       "\n",
       "\tChi-squared test for given probabilities\n",
       "\n",
       "data:  c1\n",
       "X-squared = 480.02, df = 14, p-value < 2.2e-16\n"
      ]
     },
     "metadata": {},
     "output_type": "display_data"
    }
   ],
   "source": [
    "df = read.csv('data4_p2_aa_chi.csv')\n",
    "c1 = as.vector(df['count_aa']$count_aa)\n",
    "c2 = as.vector(df['count_naa']$count_naa)\n",
    "chisq.test(c1,p=c2, rescale.p = T)"
   ]
  },
  {
   "cell_type": "code",
   "execution_count": 80,
   "metadata": {},
   "outputs": [
    {
     "data": {
      "text/plain": [
       "\n",
       "\tChi-squared test for given probabilities\n",
       "\n",
       "data:  c1\n",
       "X-squared = 554.69, df = 15, p-value < 2.2e-16\n"
      ]
     },
     "metadata": {},
     "output_type": "display_data"
    }
   ],
   "source": [
    "df = read.csv('data4_p3_aa_chi.csv')\n",
    "c1 = as.vector(df['count_aa']$count_aa)\n",
    "c2 = as.vector(df['count_naa']$count_naa)\n",
    "chisq.test(c1,p=c2, rescale.p = T)"
   ]
  },
  {
   "cell_type": "code",
   "execution_count": 81,
   "metadata": {},
   "outputs": [
    {
     "data": {
      "text/plain": [
       "\n",
       "\tChi-squared test for given probabilities\n",
       "\n",
       "data:  c1\n",
       "X-squared = 96.105, df = 4, p-value < 2.2e-16\n"
      ]
     },
     "metadata": {},
     "output_type": "display_data"
    }
   ],
   "source": [
    "df = read.csv('data4_p2_gh_chi.csv')\n",
    "c1 = as.vector(df['count_gh']$count_gh)\n",
    "c2 = as.vector(df['count_ngh']$count_ngh)\n",
    "chisq.test(c1,p=c2, rescale.p = T)"
   ]
  },
  {
   "cell_type": "code",
   "execution_count": 82,
   "metadata": {},
   "outputs": [
    {
     "data": {
      "text/plain": [
       "\n",
       "\tChi-squared test for given probabilities\n",
       "\n",
       "data:  c1\n",
       "X-squared = 101.24, df = 4, p-value < 2.2e-16\n"
      ]
     },
     "metadata": {},
     "output_type": "display_data"
    }
   ],
   "source": [
    "df = read.csv('data4_p3_gh_chi.csv')\n",
    "c1 = as.vector(df['count_gh']$count_gh)\n",
    "c2 = as.vector(df['count_ngh']$count_ngh)\n",
    "chisq.test(c1,p=c2, rescale.p = T)"
   ]
  },
  {
   "cell_type": "code",
   "execution_count": 65,
   "metadata": {},
   "outputs": [],
   "source": [
    "# chisq.test(c(10, 10, 10, 30), p = c(1, 11, 11, 1), rescale.p = TRUE)"
   ]
  },
  {
   "cell_type": "code",
   "execution_count": 95,
   "metadata": {},
   "outputs": [
    {
     "name": "stdout",
     "output_type": "stream",
     "text": [
      "\n",
      "\tWelch Two Sample t-test\n",
      "\n",
      "data:  c1 and c2\n",
      "t = -8.4742, df = 198, p-value = 5.365e-15\n",
      "alternative hypothesis: true difference in means is not equal to 0\n",
      "95 percent confidence interval:\n",
      " -2.238599 -1.393401\n",
      "sample estimates:\n",
      "mean of x mean of y \n",
      "   26.788    28.604 \n",
      "\n",
      "\n",
      "\tWilcoxon rank sum test with continuity correction\n",
      "\n",
      "data:  c1 and c2\n",
      "W = 1940.5, p-value = 7.667e-14\n",
      "alternative hypothesis: true location shift is not equal to 0\n",
      "\n"
     ]
    }
   ],
   "source": [
    "df = read.csv('data4_aa_t.csv')\n",
    "c1 = as.vector(df['peraa']$peraa)\n",
    "c2 = as.vector(df['pernaa']$pernaa)\n",
    "print(t.test(c1,c2))\n",
    "print(wilcox.test(c1,c2))"
   ]
  },
  {
   "cell_type": "code",
   "execution_count": 96,
   "metadata": {},
   "outputs": [
    {
     "name": "stdout",
     "output_type": "stream",
     "text": [
      "\n",
      "\tWelch Two Sample t-test\n",
      "\n",
      "data:  c1 and c2\n",
      "t = 35.38, df = 191.87, p-value < 2.2e-16\n",
      "alternative hypothesis: true difference in means is not equal to 0\n",
      "95 percent confidence interval:\n",
      " 6.631475 7.414525\n",
      "sample estimates:\n",
      "mean of x mean of y \n",
      "   34.998    27.975 \n",
      "\n",
      "\n",
      "\tWilcoxon rank sum test with continuity correction\n",
      "\n",
      "data:  c1 and c2\n",
      "W = 9999, p-value < 2.2e-16\n",
      "alternative hypothesis: true location shift is not equal to 0\n",
      "\n"
     ]
    }
   ],
   "source": [
    "df = read.csv('data4_gh_t.csv')\n",
    "c1 = as.vector(df['pergh']$pergh)\n",
    "c2 = as.vector(df['perngh']$perngh)\n",
    "print(t.test(c1,c2))\n",
    "print(wilcox.test(c1,c2))"
   ]
  },
  {
   "cell_type": "code",
   "execution_count": 97,
   "metadata": {},
   "outputs": [
    {
     "name": "stdout",
     "output_type": "stream",
     "text": [
      "\n",
      "\tWelch Two Sample t-test\n",
      "\n",
      "data:  c1 and c2\n",
      "t = 0.3806, df = 194.74, p-value = 0.7039\n",
      "alternative hypothesis: true difference in means is not equal to 0\n",
      "95 percent confidence interval:\n",
      " -0.301093  0.445093\n",
      "sample estimates:\n",
      "mean of x mean of y \n",
      "   26.902    26.830 \n",
      "\n",
      "\n",
      "\tWilcoxon rank sum test with continuity correction\n",
      "\n",
      "data:  c1 and c2\n",
      "W = 5324.5, p-value = 0.4284\n",
      "alternative hypothesis: true location shift is not equal to 0\n",
      "\n"
     ]
    }
   ],
   "source": [
    "df = read.csv('data4_test_t.csv')\n",
    "c1 = as.vector(df['pergh']$pergh)\n",
    "c2 = as.vector(df['perngh']$perngh)\n",
    "print(t.test(c1,c2))\n",
    "print(wilcox.test(c1,c2))"
   ]
  },
  {
   "cell_type": "code",
   "execution_count": null,
   "metadata": {},
   "outputs": [],
   "source": []
  },
  {
   "cell_type": "code",
   "execution_count": null,
   "metadata": {},
   "outputs": [],
   "source": []
  },
  {
   "cell_type": "code",
   "execution_count": null,
   "metadata": {},
   "outputs": [],
   "source": []
  },
  {
   "cell_type": "code",
   "execution_count": null,
   "metadata": {},
   "outputs": [],
   "source": []
  }
 ],
 "metadata": {
  "kernelspec": {
   "display_name": "R",
   "language": "R",
   "name": "ir"
  },
  "language_info": {
   "codemirror_mode": "r",
   "file_extension": ".r",
   "mimetype": "text/x-r-source",
   "name": "R",
   "pygments_lexer": "r",
   "version": "3.5.1"
  }
 },
 "nbformat": 4,
 "nbformat_minor": 2
}
