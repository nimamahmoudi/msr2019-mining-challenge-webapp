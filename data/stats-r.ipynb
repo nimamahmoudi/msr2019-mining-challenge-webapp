{
 "cells": [
  {
   "cell_type": "code",
   "execution_count": 109,
   "metadata": {},
   "outputs": [
    {
     "data": {
      "text/plain": [
       "\n",
       "\tChi-squared test for given probabilities\n",
       "\n",
       "data:  c1\n",
       "X-squared = 480.02, df = 14, p-value < 2.2e-16\n"
      ]
     },
     "metadata": {},
     "output_type": "display_data"
    }
   ],
   "source": [
    "df = read.csv('data4_p2_aa_chi.csv')\n",
    "c1 = as.vector(df['count_aa']$count_aa)\n",
    "c2 = as.vector(df['count_naa']$count_naa)\n",
    "chisq.test(c1,p=c2, rescale.p = T)"
   ]
  },
  {
   "cell_type": "code",
   "execution_count": 110,
   "metadata": {},
   "outputs": [
    {
     "data": {
      "text/plain": [
       "\n",
       "\tChi-squared test for given probabilities\n",
       "\n",
       "data:  c1\n",
       "X-squared = 554.69, df = 15, p-value < 2.2e-16\n"
      ]
     },
     "metadata": {},
     "output_type": "display_data"
    }
   ],
   "source": [
    "df = read.csv('data4_p3_aa_chi.csv')\n",
    "c1 = as.vector(df['count_aa']$count_aa)\n",
    "c2 = as.vector(df['count_naa']$count_naa)\n",
    "chisq.test(c1,p=c2, rescale.p = T)"
   ]
  },
  {
   "cell_type": "code",
   "execution_count": 111,
   "metadata": {},
   "outputs": [
    {
     "data": {
      "text/plain": [
       "\n",
       "\tChi-squared test for given probabilities\n",
       "\n",
       "data:  c1\n",
       "X-squared = 96.105, df = 4, p-value < 2.2e-16\n"
      ]
     },
     "metadata": {},
     "output_type": "display_data"
    }
   ],
   "source": [
    "df = read.csv('data4_p2_gh_chi.csv')\n",
    "c1 = as.vector(df['count_gh']$count_gh)\n",
    "c2 = as.vector(df['count_ngh']$count_ngh)\n",
    "chisq.test(c1,p=c2, rescale.p = T)"
   ]
  },
  {
   "cell_type": "code",
   "execution_count": 112,
   "metadata": {},
   "outputs": [
    {
     "data": {
      "text/plain": [
       "\n",
       "\tChi-squared test for given probabilities\n",
       "\n",
       "data:  c1\n",
       "X-squared = 101.24, df = 4, p-value < 2.2e-16\n"
      ]
     },
     "metadata": {},
     "output_type": "display_data"
    }
   ],
   "source": [
    "df = read.csv('data4_p3_gh_chi.csv')\n",
    "c1 = as.vector(df['count_gh']$count_gh)\n",
    "c2 = as.vector(df['count_ngh']$count_ngh)\n",
    "chisq.test(c1,p=c2, rescale.p = T)"
   ]
  },
  {
   "cell_type": "code",
   "execution_count": 113,
   "metadata": {},
   "outputs": [],
   "source": [
    "# chisq.test(c(10, 10, 10, 30), p = c(1, 11, 11, 1), rescale.p = TRUE)"
   ]
  },
  {
   "cell_type": "code",
   "execution_count": 114,
   "metadata": {},
   "outputs": [
    {
     "name": "stdout",
     "output_type": "stream",
     "text": [
      "\n",
      "\tWelch Two Sample t-test\n",
      "\n",
      "data:  c1 and c2\n",
      "t = -1.1107, df = 34.224, p-value = 0.2744\n",
      "alternative hypothesis: true difference in means is not equal to 0\n",
      "95 percent confidence interval:\n",
      " -4.668173  1.368173\n",
      "sample estimates:\n",
      "mean of x mean of y \n",
      "    27.00     28.65 \n",
      "\n"
     ]
    },
    {
     "name": "stderr",
     "output_type": "stream",
     "text": [
      "Warning message in wilcox.test.default(c1, c2):\n",
      "\"cannot compute exact p-value with ties\""
     ]
    },
    {
     "name": "stdout",
     "output_type": "stream",
     "text": [
      "\n",
      "\tWilcoxon rank sum test with continuity correction\n",
      "\n",
      "data:  c1 and c2\n",
      "W = 154, p-value = 0.2163\n",
      "alternative hypothesis: true location shift is not equal to 0\n",
      "\n"
     ]
    }
   ],
   "source": [
    "df = read.csv('data4_aa_t.csv')\n",
    "c1 = as.vector(df['peraa']$peraa)\n",
    "c2 = as.vector(df['pernaa']$pernaa)\n",
    "print(t.test(c1,c2))\n",
    "print(wilcox.test(c1,c2))"
   ]
  },
  {
   "cell_type": "code",
   "execution_count": 115,
   "metadata": {},
   "outputs": [
    {
     "name": "stdout",
     "output_type": "stream",
     "text": [
      "\n",
      "\tWelch Two Sample t-test\n",
      "\n",
      "data:  c1 and c2\n",
      "t = 6.229, df = 35.824, p-value = 3.509e-07\n",
      "alternative hypothesis: true difference in means is not equal to 0\n",
      "95 percent confidence interval:\n",
      "  5.765728 11.334272\n",
      "sample estimates:\n",
      "mean of x mean of y \n",
      "    35.25     26.70 \n",
      "\n"
     ]
    },
    {
     "name": "stderr",
     "output_type": "stream",
     "text": [
      "Warning message in wilcox.test.default(c1, c2):\n",
      "\"cannot compute exact p-value with ties\""
     ]
    },
    {
     "name": "stdout",
     "output_type": "stream",
     "text": [
      "\n",
      "\tWilcoxon rank sum test with continuity correction\n",
      "\n",
      "data:  c1 and c2\n",
      "W = 367.5, p-value = 5.985e-06\n",
      "alternative hypothesis: true location shift is not equal to 0\n",
      "\n"
     ]
    }
   ],
   "source": [
    "df = read.csv('data4_gh_t.csv')\n",
    "c1 = as.vector(df['pergh']$pergh)\n",
    "c2 = as.vector(df['perngh']$perngh)\n",
    "print(t.test(c1,c2))\n",
    "print(wilcox.test(c1,c2))"
   ]
  },
  {
   "cell_type": "code",
   "execution_count": 195,
   "metadata": {},
   "outputs": [
    {
     "name": "stdout",
     "output_type": "stream",
     "text": [
      "\n",
      "\tWelch Two Sample t-test\n",
      "\n",
      "data:  c1 and c2\n",
      "t = 0.8541, df = 37.885, p-value = 0.3984\n",
      "alternative hypothesis: true difference in means is not equal to 0\n",
      "95 percent confidence interval:\n",
      " -1.507477  3.707477\n",
      "sample estimates:\n",
      "mean of x mean of y \n",
      "    27.25     26.15 \n",
      "\n"
     ]
    },
    {
     "name": "stderr",
     "output_type": "stream",
     "text": [
      "Warning message in wilcox.test.default(c1, c2):\n",
      "\"cannot compute exact p-value with ties\""
     ]
    },
    {
     "name": "stdout",
     "output_type": "stream",
     "text": [
      "\n",
      "\tWilcoxon rank sum test with continuity correction\n",
      "\n",
      "data:  c1 and c2\n",
      "W = 231, p-value = 0.4075\n",
      "alternative hypothesis: true location shift is not equal to 0\n",
      "\n"
     ]
    }
   ],
   "source": [
    "df = read.csv('data4_test_t.csv')\n",
    "c1 = as.vector(df['pergh']$pergh)\n",
    "c2 = as.vector(df['perngh']$perngh)\n",
    "print(t.test(c1,c2))\n",
    "print(wilcox.test(c1,c2))"
   ]
  },
  {
   "cell_type": "code",
   "execution_count": null,
   "metadata": {},
   "outputs": [],
   "source": []
  },
  {
   "cell_type": "code",
   "execution_count": null,
   "metadata": {},
   "outputs": [],
   "source": []
  },
  {
   "cell_type": "code",
   "execution_count": null,
   "metadata": {},
   "outputs": [],
   "source": []
  },
  {
   "cell_type": "code",
   "execution_count": null,
   "metadata": {},
   "outputs": [],
   "source": []
  }
 ],
 "metadata": {
  "kernelspec": {
   "display_name": "R",
   "language": "R",
   "name": "ir"
  },
  "language_info": {
   "codemirror_mode": "r",
   "file_extension": ".r",
   "mimetype": "text/x-r-source",
   "name": "R",
   "pygments_lexer": "r",
   "version": "3.5.1"
  }
 },
 "nbformat": 4,
 "nbformat_minor": 2
}
