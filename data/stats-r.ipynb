{
 "cells": [
  {
   "cell_type": "code",
   "execution_count": 2,
   "metadata": {},
   "outputs": [
    {
     "data": {
      "text/plain": [
       "\n",
       "\tChi-squared test for given probabilities\n",
       "\n",
       "data:  c1\n",
       "X-squared = 480.02, df = 14, p-value < 2.2e-16\n"
      ]
     },
     "metadata": {},
     "output_type": "display_data"
    }
   ],
   "source": [
    "df = read.csv('data4_p2_aa_chi.csv')\n",
    "c1 = as.vector(df['count_aa']$count_aa)\n",
    "c2 = as.vector(df['count_naa']$count_naa)\n",
    "chisq.test(c1,p=c2, rescale.p = T)"
   ]
  },
  {
   "cell_type": "code",
   "execution_count": 3,
   "metadata": {},
   "outputs": [
    {
     "data": {
      "text/html": [
       "<ol class=list-inline>\n",
       "\t<li>23857</li>\n",
       "\t<li>4354</li>\n",
       "\t<li>218</li>\n",
       "\t<li>1842</li>\n",
       "\t<li>142</li>\n",
       "\t<li>819</li>\n",
       "\t<li>1395</li>\n",
       "\t<li>88</li>\n",
       "\t<li>48</li>\n",
       "\t<li>29498</li>\n",
       "\t<li>28347</li>\n",
       "\t<li>5341</li>\n",
       "\t<li>551</li>\n",
       "\t<li>152</li>\n",
       "\t<li>193</li>\n",
       "</ol>\n"
      ],
      "text/latex": [
       "\\begin{enumerate*}\n",
       "\\item 23857\n",
       "\\item 4354\n",
       "\\item 218\n",
       "\\item 1842\n",
       "\\item 142\n",
       "\\item 819\n",
       "\\item 1395\n",
       "\\item 88\n",
       "\\item 48\n",
       "\\item 29498\n",
       "\\item 28347\n",
       "\\item 5341\n",
       "\\item 551\n",
       "\\item 152\n",
       "\\item 193\n",
       "\\end{enumerate*}\n"
      ],
      "text/markdown": [
       "1. 23857\n",
       "2. 4354\n",
       "3. 218\n",
       "4. 1842\n",
       "5. 142\n",
       "6. 819\n",
       "7. 1395\n",
       "8. 88\n",
       "9. 48\n",
       "10. 29498\n",
       "11. 28347\n",
       "12. 5341\n",
       "13. 551\n",
       "14. 152\n",
       "15. 193\n",
       "\n",
       "\n"
      ],
      "text/plain": [
       " [1] 23857  4354   218  1842   142   819  1395    88    48 29498 28347  5341\n",
       "[13]   551   152   193"
      ]
     },
     "metadata": {},
     "output_type": "display_data"
    }
   ],
   "source": [
    "c1"
   ]
  },
  {
   "cell_type": "code",
   "execution_count": 4,
   "metadata": {},
   "outputs": [
    {
     "data": {
      "text/html": [
       "<ol class=list-inline>\n",
       "\t<li>45736</li>\n",
       "\t<li>7388</li>\n",
       "\t<li>448</li>\n",
       "\t<li>3269</li>\n",
       "\t<li>223</li>\n",
       "\t<li>1785</li>\n",
       "\t<li>2224</li>\n",
       "\t<li>175</li>\n",
       "\t<li>61</li>\n",
       "\t<li>48173</li>\n",
       "\t<li>52104</li>\n",
       "\t<li>9401</li>\n",
       "\t<li>1212</li>\n",
       "\t<li>262</li>\n",
       "\t<li>356</li>\n",
       "</ol>\n"
      ],
      "text/latex": [
       "\\begin{enumerate*}\n",
       "\\item 45736\n",
       "\\item 7388\n",
       "\\item 448\n",
       "\\item 3269\n",
       "\\item 223\n",
       "\\item 1785\n",
       "\\item 2224\n",
       "\\item 175\n",
       "\\item 61\n",
       "\\item 48173\n",
       "\\item 52104\n",
       "\\item 9401\n",
       "\\item 1212\n",
       "\\item 262\n",
       "\\item 356\n",
       "\\end{enumerate*}\n"
      ],
      "text/markdown": [
       "1. 45736\n",
       "2. 7388\n",
       "3. 448\n",
       "4. 3269\n",
       "5. 223\n",
       "6. 1785\n",
       "7. 2224\n",
       "8. 175\n",
       "9. 61\n",
       "10. 48173\n",
       "11. 52104\n",
       "12. 9401\n",
       "13. 1212\n",
       "14. 262\n",
       "15. 356\n",
       "\n",
       "\n"
      ],
      "text/plain": [
       " [1] 45736  7388   448  3269   223  1785  2224   175    61 48173 52104  9401\n",
       "[13]  1212   262   356"
      ]
     },
     "metadata": {},
     "output_type": "display_data"
    }
   ],
   "source": [
    "c2"
   ]
  },
  {
   "cell_type": "code",
   "execution_count": 6,
   "metadata": {},
   "outputs": [
    {
     "data": {
      "text/plain": [
       "   Min. 1st Qu.  Median    Mean 3rd Qu.    Max. \n",
       " 0.4546  0.5122  0.5635  0.5650  0.6008  0.7869 "
      ]
     },
     "metadata": {},
     "output_type": "display_data"
    }
   ],
   "source": [
    "summary(c1/c2)"
   ]
  },
  {
   "cell_type": "code",
   "execution_count": 8,
   "metadata": {},
   "outputs": [
    {
     "data": {
      "text/plain": [
       "\n",
       "\tChi-squared test for given probabilities\n",
       "\n",
       "data:  c1\n",
       "X-squared = 554.69, df = 15, p-value < 2.2e-16\n"
      ]
     },
     "metadata": {},
     "output_type": "display_data"
    }
   ],
   "source": [
    "df = read.csv('data4_p3_aa_chi.csv')\n",
    "c1 = as.vector(df['count_aa']$count_aa)\n",
    "c2 = as.vector(df['count_naa']$count_naa)\n",
    "chisq.test(c1,p=c2, rescale.p = T)"
   ]
  },
  {
   "cell_type": "code",
   "execution_count": 9,
   "metadata": {},
   "outputs": [
    {
     "data": {
      "text/html": [
       "<ol class=list-inline>\n",
       "\t<li>21537</li>\n",
       "\t<li>4903</li>\n",
       "\t<li>318</li>\n",
       "\t<li>24</li>\n",
       "\t<li>498</li>\n",
       "\t<li>191</li>\n",
       "\t<li>66</li>\n",
       "\t<li>48</li>\n",
       "\t<li>29003</li>\n",
       "\t<li>33900</li>\n",
       "\t<li>2939</li>\n",
       "\t<li>512</li>\n",
       "\t<li>68</li>\n",
       "\t<li>1124</li>\n",
       "\t<li>1554</li>\n",
       "\t<li>117</li>\n",
       "</ol>\n"
      ],
      "text/latex": [
       "\\begin{enumerate*}\n",
       "\\item 21537\n",
       "\\item 4903\n",
       "\\item 318\n",
       "\\item 24\n",
       "\\item 498\n",
       "\\item 191\n",
       "\\item 66\n",
       "\\item 48\n",
       "\\item 29003\n",
       "\\item 33900\n",
       "\\item 2939\n",
       "\\item 512\n",
       "\\item 68\n",
       "\\item 1124\n",
       "\\item 1554\n",
       "\\item 117\n",
       "\\end{enumerate*}\n"
      ],
      "text/markdown": [
       "1. 21537\n",
       "2. 4903\n",
       "3. 318\n",
       "4. 24\n",
       "5. 498\n",
       "6. 191\n",
       "7. 66\n",
       "8. 48\n",
       "9. 29003\n",
       "10. 33900\n",
       "11. 2939\n",
       "12. 512\n",
       "13. 68\n",
       "14. 1124\n",
       "15. 1554\n",
       "16. 117\n",
       "\n",
       "\n"
      ],
      "text/plain": [
       " [1] 21537  4903   318    24   498   191    66    48 29003 33900  2939   512\n",
       "[13]    68  1124  1554   117"
      ]
     },
     "metadata": {},
     "output_type": "display_data"
    }
   ],
   "source": [
    "c1"
   ]
  },
  {
   "cell_type": "code",
   "execution_count": 10,
   "metadata": {},
   "outputs": [
    {
     "data": {
      "text/plain": [
       "\n",
       "\tChi-squared test for given probabilities\n",
       "\n",
       "data:  c1\n",
       "X-squared = 96.105, df = 4, p-value < 2.2e-16\n"
      ]
     },
     "metadata": {},
     "output_type": "display_data"
    }
   ],
   "source": [
    "df = read.csv('data4_p2_gh_chi.csv')\n",
    "c1 = as.vector(df['count_gh']$count_gh)\n",
    "c2 = as.vector(df['count_ngh']$count_ngh)\n",
    "chisq.test(c1,p=c2, rescale.p = T)"
   ]
  },
  {
   "cell_type": "code",
   "execution_count": 11,
   "metadata": {},
   "outputs": [
    {
     "data": {
      "text/html": [
       "<ol class=list-inline>\n",
       "\t<li>442</li>\n",
       "\t<li>39</li>\n",
       "\t<li>323</li>\n",
       "\t<li>345</li>\n",
       "\t<li>131</li>\n",
       "</ol>\n"
      ],
      "text/latex": [
       "\\begin{enumerate*}\n",
       "\\item 442\n",
       "\\item 39\n",
       "\\item 323\n",
       "\\item 345\n",
       "\\item 131\n",
       "\\end{enumerate*}\n"
      ],
      "text/markdown": [
       "1. 442\n",
       "2. 39\n",
       "3. 323\n",
       "4. 345\n",
       "5. 131\n",
       "\n",
       "\n"
      ],
      "text/plain": [
       "[1] 442  39 323 345 131"
      ]
     },
     "metadata": {},
     "output_type": "display_data"
    }
   ],
   "source": [
    "c1"
   ]
  },
  {
   "cell_type": "code",
   "execution_count": 12,
   "metadata": {},
   "outputs": [
    {
     "data": {
      "text/html": [
       "<ol class=list-inline>\n",
       "\t<li>69151</li>\n",
       "\t<li>11703</li>\n",
       "\t<li>77348</li>\n",
       "\t<li>80106</li>\n",
       "\t<li>14611</li>\n",
       "</ol>\n"
      ],
      "text/latex": [
       "\\begin{enumerate*}\n",
       "\\item 69151\n",
       "\\item 11703\n",
       "\\item 77348\n",
       "\\item 80106\n",
       "\\item 14611\n",
       "\\end{enumerate*}\n"
      ],
      "text/markdown": [
       "1. 69151\n",
       "2. 11703\n",
       "3. 77348\n",
       "4. 80106\n",
       "5. 14611\n",
       "\n",
       "\n"
      ],
      "text/plain": [
       "[1] 69151 11703 77348 80106 14611"
      ]
     },
     "metadata": {},
     "output_type": "display_data"
    }
   ],
   "source": [
    "c2"
   ]
  },
  {
   "cell_type": "code",
   "execution_count": 20,
   "metadata": {},
   "outputs": [
    {
     "data": {
      "text/plain": [
       "\n",
       "\tPearson's Chi-squared test\n",
       "\n",
       "data:  as.table(rbind(c1[c(1, 3, 4)], c2[c(1, 3, 4)]))\n",
       "X-squared = 45.192, df = 2, p-value = 1.537e-10\n"
      ]
     },
     "metadata": {},
     "output_type": "display_data"
    }
   ],
   "source": [
    "chisq.test(as.table(rbind(c1[c(1,3,4)],c2[c(1,3,4)])))"
   ]
  },
  {
   "cell_type": "code",
   "execution_count": 112,
   "metadata": {},
   "outputs": [
    {
     "data": {
      "text/plain": [
       "\n",
       "\tChi-squared test for given probabilities\n",
       "\n",
       "data:  c1\n",
       "X-squared = 101.24, df = 4, p-value < 2.2e-16\n"
      ]
     },
     "metadata": {},
     "output_type": "display_data"
    }
   ],
   "source": [
    "df = read.csv('data4_p3_gh_chi.csv')\n",
    "c1 = as.vector(df['count_gh']$count_gh)\n",
    "c2 = as.vector(df['count_ngh']$count_ngh)\n",
    "chisq.test(c1,p=c2, rescale.p = T)"
   ]
  },
  {
   "cell_type": "code",
   "execution_count": 113,
   "metadata": {},
   "outputs": [],
   "source": [
    "# chisq.test(c(10, 10, 10, 30), p = c(1, 11, 11, 1), rescale.p = TRUE)"
   ]
  },
  {
   "cell_type": "code",
   "execution_count": 114,
   "metadata": {},
   "outputs": [
    {
     "name": "stdout",
     "output_type": "stream",
     "text": [
      "\n",
      "\tWelch Two Sample t-test\n",
      "\n",
      "data:  c1 and c2\n",
      "t = -1.1107, df = 34.224, p-value = 0.2744\n",
      "alternative hypothesis: true difference in means is not equal to 0\n",
      "95 percent confidence interval:\n",
      " -4.668173  1.368173\n",
      "sample estimates:\n",
      "mean of x mean of y \n",
      "    27.00     28.65 \n",
      "\n"
     ]
    },
    {
     "name": "stderr",
     "output_type": "stream",
     "text": [
      "Warning message in wilcox.test.default(c1, c2):\n",
      "\"cannot compute exact p-value with ties\""
     ]
    },
    {
     "name": "stdout",
     "output_type": "stream",
     "text": [
      "\n",
      "\tWilcoxon rank sum test with continuity correction\n",
      "\n",
      "data:  c1 and c2\n",
      "W = 154, p-value = 0.2163\n",
      "alternative hypothesis: true location shift is not equal to 0\n",
      "\n"
     ]
    }
   ],
   "source": [
    "df = read.csv('data4_aa_t.csv')\n",
    "c1 = as.vector(df['peraa']$peraa)\n",
    "c2 = as.vector(df['pernaa']$pernaa)\n",
    "print(t.test(c1,c2))\n",
    "print(wilcox.test(c1,c2))"
   ]
  },
  {
   "cell_type": "code",
   "execution_count": 115,
   "metadata": {},
   "outputs": [
    {
     "name": "stdout",
     "output_type": "stream",
     "text": [
      "\n",
      "\tWelch Two Sample t-test\n",
      "\n",
      "data:  c1 and c2\n",
      "t = 6.229, df = 35.824, p-value = 3.509e-07\n",
      "alternative hypothesis: true difference in means is not equal to 0\n",
      "95 percent confidence interval:\n",
      "  5.765728 11.334272\n",
      "sample estimates:\n",
      "mean of x mean of y \n",
      "    35.25     26.70 \n",
      "\n"
     ]
    },
    {
     "name": "stderr",
     "output_type": "stream",
     "text": [
      "Warning message in wilcox.test.default(c1, c2):\n",
      "\"cannot compute exact p-value with ties\""
     ]
    },
    {
     "name": "stdout",
     "output_type": "stream",
     "text": [
      "\n",
      "\tWilcoxon rank sum test with continuity correction\n",
      "\n",
      "data:  c1 and c2\n",
      "W = 367.5, p-value = 5.985e-06\n",
      "alternative hypothesis: true location shift is not equal to 0\n",
      "\n"
     ]
    }
   ],
   "source": [
    "df = read.csv('data4_gh_t.csv')\n",
    "c1 = as.vector(df['pergh']$pergh)\n",
    "c2 = as.vector(df['perngh']$perngh)\n",
    "print(t.test(c1,c2))\n",
    "print(wilcox.test(c1,c2))"
   ]
  },
  {
   "cell_type": "code",
   "execution_count": 195,
   "metadata": {},
   "outputs": [
    {
     "name": "stdout",
     "output_type": "stream",
     "text": [
      "\n",
      "\tWelch Two Sample t-test\n",
      "\n",
      "data:  c1 and c2\n",
      "t = 0.8541, df = 37.885, p-value = 0.3984\n",
      "alternative hypothesis: true difference in means is not equal to 0\n",
      "95 percent confidence interval:\n",
      " -1.507477  3.707477\n",
      "sample estimates:\n",
      "mean of x mean of y \n",
      "    27.25     26.15 \n",
      "\n"
     ]
    },
    {
     "name": "stderr",
     "output_type": "stream",
     "text": [
      "Warning message in wilcox.test.default(c1, c2):\n",
      "\"cannot compute exact p-value with ties\""
     ]
    },
    {
     "name": "stdout",
     "output_type": "stream",
     "text": [
      "\n",
      "\tWilcoxon rank sum test with continuity correction\n",
      "\n",
      "data:  c1 and c2\n",
      "W = 231, p-value = 0.4075\n",
      "alternative hypothesis: true location shift is not equal to 0\n",
      "\n"
     ]
    }
   ],
   "source": [
    "df = read.csv('data4_test_t.csv')\n",
    "c1 = as.vector(df['pergh']$pergh)\n",
    "c2 = as.vector(df['perngh']$perngh)\n",
    "print(t.test(c1,c2))\n",
    "print(wilcox.test(c1,c2))"
   ]
  },
  {
   "cell_type": "code",
   "execution_count": null,
   "metadata": {},
   "outputs": [],
   "source": []
  },
  {
   "cell_type": "code",
   "execution_count": null,
   "metadata": {},
   "outputs": [],
   "source": []
  },
  {
   "cell_type": "code",
   "execution_count": null,
   "metadata": {},
   "outputs": [],
   "source": []
  },
  {
   "cell_type": "code",
   "execution_count": null,
   "metadata": {},
   "outputs": [],
   "source": []
  }
 ],
 "metadata": {
  "kernelspec": {
   "display_name": "R",
   "language": "R",
   "name": "ir"
  },
  "language_info": {
   "codemirror_mode": "r",
   "file_extension": ".r",
   "mimetype": "text/x-r-source",
   "name": "R",
   "pygments_lexer": "r",
   "version": "3.5.1"
  }
 },
 "nbformat": 4,
 "nbformat_minor": 2
}
